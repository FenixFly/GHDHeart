{
 "cells": [
  {
   "cell_type": "code",
   "execution_count": 1,
   "metadata": {},
   "outputs": [
    {
     "name": "stdout",
     "output_type": "stream",
     "text": [
      "Jupyter environment detected. Enabling Open3D WebVisualizer.\n",
      "[Open3D INFO] WebRTC GUI backend enabled.\n",
      "[Open3D INFO] WebRTCWindowSystem: HTTP handshake server disabled.\n"
     ]
    }
   ],
   "source": [
    "import pyvista as pv\n",
    "pv.start_xvfb(wait=0)\n",
    "pv.set_jupyter_backend('html')\n",
    "\n",
    "import os\n",
    "import sys\n",
    "sys.path.append(os.path.join('..', '.'))\n",
    "\n",
    "import torch\n",
    "import torch.nn as nn\n",
    "import torch.nn.functional as F\n",
    "import torch.optim as optim\n",
    "\n",
    "from torch.utils.data import Dataset, DataLoader\n",
    "\n",
    "from pytorch3d.structures import Meshes\n",
    "from pytorch3d.io import load_objs_as_meshes, save_obj\n",
    "from pytorch3d.ops import cubify, cot_laplacian, sample_points_from_meshes, knn_points, knn_gather, norm_laplacian, taubin_smoothing\n",
    "from pytorch3d.loss import chamfer_distance\n",
    "from pytorch3d.utils import ico_sphere\n",
    "\n",
    "from torch_geometric.utils import degree, to_undirected, to_dense_adj, get_laplacian, add_self_loops\n",
    "from torch_geometric.data import Data\n",
    "# from torch_geometric.transforms import gdc\n",
    "from torch_scatter import scatter\n",
    "\n",
    "import numpy as np\n",
    "\n",
    "import trimesh\n",
    "\n",
    "\n",
    "from scipy.sparse.linalg import eigsh\n",
    "from scipy.sparse import coo_matrix\n",
    "\n",
    "\n",
    "from data_process.dataset_real_scaling import UKBB_dataset, MMWHS_dataset, ACDC_dataset, CCT48_dataset\n",
    "from ops.graph_operators import NativeFeaturePropagation, LaplacianSmoothing\n",
    "from data.dataset import MMWHSDataset_3DLabel\n",
    "\n",
    "\n",
    "from tqdm import tqdm\n",
    "\n",
    "from probreg import cpd\n",
    "\n",
    "import matplotlib.pyplot as plt\n",
    "from mpl_toolkits.mplot3d import Axes3D\n",
    "\n",
    "from pytorch3d.transforms import axis_angle_to_matrix, matrix_to_axis_angle\n",
    "\n",
    "\n",
    "import warnings\n",
    "warnings.filterwarnings(\"ignore\")\n",
    "\n",
    "from GHD import GHD_config, GHDmesh, Normal_iterative_GHDmesh\n",
    "from GHD.GHD_cardiac import GHD_Cardiac\n",
    "\n",
    "from einops import rearrange, einsum, repeat\n",
    "\n",
    "from pytorch3d.loss import chamfer_distance,mesh_laplacian_smoothing, mesh_normal_consistency, mesh_edge_loss\n",
    "\n",
    "\n",
    "from losses import *\n",
    "from ops.mesh_geometry import *\n",
    "\n",
    "import data.data_utils as dut\n",
    "from ops.medical_related import *\n",
    "\n"
   ]
  },
  {
   "cell_type": "code",
   "execution_count": 2,
   "metadata": {},
   "outputs": [
    {
     "name": "stdout",
     "output_type": "stream",
     "text": [
      "GHD config:\n",
      "base_shape_path ../canonical_shapes/Standard_LV_4055.obj\n",
      "num_basis 81\n",
      "device cuda:1\n",
      "mix_laplacian_tradeoff {'cotlap': 1.0, 'dislap': 0.1, 'stdlap': 0.1}\n",
      "if_lap_nomalize True\n",
      "eign_path None\n",
      "if_nomalize True\n",
      "if_return_scipy True\n",
      "bi_ventricle_path ../canonical_shapes/Standard_BiV.obj\n"
     ]
    }
   ],
   "source": [
    "base_shape_path = '../canonical_shapes/Standard_LV_4055.obj'\n",
    "bi_ventricle_path = '../canonical_shapes/Standard_BiV.obj'\n",
    "\n",
    "# base_shape_path = 'metadata/Standard_LV.obj'\n",
    "# bi_ventricle_path = 'metadata/Standard_BiV.obj'\n",
    "\n",
    "cfg = GHD_config(base_shape_path=base_shape_path,\n",
    "            num_basis=9**2, mix_laplacian_tradeoff={'cotlap':1.0, 'dislap':0.1, 'stdlap':0.1},\n",
    "            device='cuda:1',\n",
    "            if_nomalize=True, if_return_scipy=True, \n",
    "            bi_ventricle_path=bi_ventricle_path)\n",
    "\n",
    "paraheart = GHD_Cardiac(cfg) # "
   ]
  },
  {
   "cell_type": "code",
   "execution_count": 3,
   "metadata": {},
   "outputs": [],
   "source": [
    "\n",
    "dataset = MMWHSDataset_3DLabel(output_shape=None,dataset_path='../../../Dataset/MMWHS', modality='mixed', RML_simple=1)\n",
    "                            "
   ]
  },
  {
   "cell_type": "code",
   "execution_count": 4,
   "metadata": {},
   "outputs": [],
   "source": [
    "dataloader = DataLoader(dataset, batch_size=1, shuffle=8)\n",
    "\n",
    "query_num = 1000\n",
    "\n",
    "device = paraheart.device\n",
    "\n",
    "\n",
    "for i, example in enumerate(dataloader):\n",
    "\n",
    "    image_tem = example['image'].to(device)\n",
    "    affine_tem = example['affine'].to(device)\n",
    "    label_tem = example['label'].to(device)\n",
    "\n",
    "    # mesh_gt_lv = cubify((label_tem==dataset.label_value[2]).squeeze(1).float(), 0.48)\n",
    "    # mesh_gt_lv = taubin_smoothing(mesh_gt_lv, 0.1, 0.5, num_iter=20)\n",
    "    \n",
    "    B = image_tem.shape[0]\n",
    "    ## -------------- Data augmentation -----------------##\n",
    "    coordinate_map_tem = dut.get_coord_map_3d_normalized(image_tem.shape[-3:], affine_tem)\n",
    "\n",
    "    lv_cavity_index =  torch.where(label_tem==2)\n",
    "    lv_cavity_center = coordinate_map_tem[lv_cavity_index[0],lv_cavity_index[2],lv_cavity_index[3],lv_cavity_index[4],:]\n",
    "    lv_cavity_center = scatter(lv_cavity_center, lv_cavity_index[0], dim=0, reduce='mean')\n",
    "\n",
    "    \n",
    "\n",
    "    affine_aug  = dut.random_affine(B=B, dim=3, rot_range=[-np.pi, np.pi], \n",
    "                                    scale_range=[1.,1.], trans_range=[-0.2,0.2]).to(device)\n",
    "    \n",
    "    affine_aug[...,:3, 3] = affine_aug[...,:3, 3] + lv_cavity_center \n",
    "\n",
    "    del lv_cavity_center, lv_cavity_index\n",
    "\n",
    "    Z_new, Y_new, X_new = 128, 128, 128\n",
    "\n",
    "    Z_new = np.random.randint(32, 64)\n",
    "\n",
    "    with torch.no_grad():\n",
    "        new_affine = affine_tem.inverse()@affine_aug\n",
    "\n",
    "        new_affine_inv = new_affine.inverse()\n",
    "\n",
    "        # mesh_gt_lv = mesh_gt_lv.update_padded(mesh_gt_lv.verts_padded().matmul(new_affine_inv[..., :3,:3].transpose(-1,-2))+new_affine_inv[...,:3,3].unsqueeze(-2))\n",
    "\n",
    "        label_tem = dut.augment_from_affine(label_tem, new_affine, (Z_new, Y_new, X_new), mode='nearest')\n",
    "        image_tem = dut.augment_from_affine(image_tem, new_affine, (Z_new, Y_new, X_new), mode='bilinear')\n",
    "\n",
    "        example['label'] = label_tem\n",
    "        example['image'] = image_tem\n",
    "\n",
    "\n",
    "        image_tem = dut.img_standardize(image_tem)\n",
    "        image_tem =dut.img_normalize(image_tem)\n",
    "\n",
    "        \n",
    "        coordinate_map_tem = dut.get_coord_map_3d_normalized(image_tem.shape[-3:], torch.eye(4).to(device).unsqueeze(0).repeat(B,1,1))\n",
    "        \n",
    "        B, C, Z, Y, X = image_tem.shape\n",
    "\n",
    "\n",
    "        query_points_labeled = rearrange(coordinate_map_tem, \n",
    "                                            'b z y x c -> b (z y x) c', c=3)\n",
    "        query_points_labeled = torch.cat([query_points_labeled, \n",
    "                                        rearrange(label_tem==dataset.label_value[2], 'b 1 z y x -> b (z y x) 1')], dim=-1)\n",
    "        \n",
    "        query_points_list = []\n",
    "        target_affine_list = []\n",
    "        \n",
    "        Z_rv, Y_rv, X_rv = torch.where(label_tem[0, 0]==dataset.label_value[1])\n",
    "        Z_lv, Y_lv, X_lv = torch.where(label_tem[0, 0]==dataset.label_value[2])\n",
    "        Z_cav, Y_cav, X_cav = torch.where(label_tem[0, 0]==dataset.label_value[3])\n",
    "        Z_bg, Y_bg, X_bg = torch.where(label_tem[0, 0]==dataset.label_value[0])\n",
    "        \n",
    "        Pt_rv = coordinate_map_tem[0, Z_rv, Y_rv, X_rv]\n",
    "        Pt_lv = coordinate_map_tem[0, Z_lv, Y_lv, X_lv]\n",
    "        Pt_cav = coordinate_map_tem[0, Z_cav, Y_cav, X_cav]\n",
    "        Pt_bg = coordinate_map_tem[0, Z_bg, Y_bg, X_bg]\n",
    "\n",
    "        points_bi = torch.cat([Pt_rv, Pt_lv], dim=0)\n",
    "        points_lv = Pt_lv\n",
    "        points_outoflv = torch.cat([Pt_rv, Pt_cav, Pt_bg], dim=0)\n",
    "\n",
    "        geom_dict = get_4chamberview_frame(Pt_cav, Pt_lv, Pt_rv)\n",
    "        inital_affine = geom_dict['target_affine']\n",
    "\n",
    "\n",
    "\n",
    "        bbox_lv = torch.stack([Pt_lv.min(dim=0)[0]-0.05, Pt_lv.max(dim=0)[0]+0.05], dim=-1)\n",
    "\n",
    "        points_outoflv_in_bbox = points_outoflv[(points_outoflv[:,0]>bbox_lv[0,0]) & (points_outoflv[:,0]<bbox_lv[0,1]) & (points_outoflv[:,1]>bbox_lv[1,0]) & (points_outoflv[:,1]<bbox_lv[1,1]) & (points_outoflv[:,2]>bbox_lv[2,0]) & (points_outoflv[:,2]<bbox_lv[2,1])]\n",
    "\n",
    "    break\n",
    "\n",
    "mesh_gt_lv = cubify((label_tem==dataset.label_value[2]).squeeze(1).float(), 0.48)\n",
    "\n",
    "paraheart.R = matrix_to_axis_angle(inital_affine[...,:3,:3].to(paraheart.device)).view(paraheart.R.shape)\n",
    "paraheart.T = inital_affine[...,:3,3].to(paraheart.device).view(paraheart.T.shape)\n"
   ]
  },
  {
   "cell_type": "code",
   "execution_count": 5,
   "metadata": {},
   "outputs": [
    {
     "data": {
      "text/plain": [
       "{'rot': array([[ 0.19652285, -0.58808682, -0.78455889],\n",
       "        [-0.61505332, -0.69709681,  0.36846364],\n",
       "        [-0.76360211,  0.41013403, -0.4987002 ]]),\n",
       " 'scale': 1.2777744542283105,\n",
       " 't': array([-0.27861619,  0.06749218,  0.10036034])}"
      ]
     },
     "execution_count": 5,
     "metadata": {},
     "output_type": "execute_result"
    }
   ],
   "source": [
    "sample_num = 2000\n",
    "\n",
    "mesh_gt_bi_sample = points_bi.detach().cpu().numpy()[np.random.choice(points_bi.shape[0], sample_num, replace=False)]\n",
    "paraheart.global_registration_biv(mesh_gt_bi_sample)\n",
    "\n",
    "\n",
    "sample_lv = points_lv[np.random.choice(points_lv.shape[0], sample_num, replace=False)]\n",
    "sample_outoflv = points_outoflv_in_bbox[np.random.choice(points_outoflv_in_bbox.shape[0], sample_num, replace=False)]\n",
    "paraheart.global_registration_lv(sample_lv.detach().cpu().numpy())"
   ]
  },
  {
   "cell_type": "code",
   "execution_count": 6,
   "metadata": {},
   "outputs": [
    {
     "data": {
      "application/vnd.jupyter.widget-view+json": {
       "model_id": "02557aa5cc7b4c78858e032a57c39f28",
       "version_major": 2,
       "version_minor": 0
      },
      "text/plain": [
       "EmbeddableWidget(value='<iframe srcdoc=\"<!DOCTYPE html>\\n<html>\\n  <head>\\n    <meta http-equiv=&quot;Content-…"
      ]
     },
     "metadata": {},
     "output_type": "display_data"
    }
   ],
   "source": [
    "\n",
    "coordinate_map_np = coordinate_map_tem[0].detach().cpu().numpy()\n",
    "\n",
    "pl = pv.Plotter(notebook=True)\n",
    "interval = 1\n",
    "if image_tem.shape[-3] > 20:\n",
    "    interval = 2\n",
    "if image_tem.shape[-3] > 256:\n",
    "    interval = 10\n",
    "for i in range(0, image_tem.shape[-3], interval):\n",
    "\n",
    "    x, y, z = coordinate_map_np[i,...,0], coordinate_map_np[i,...,1], coordinate_map_np[i,...,2]\n",
    "\n",
    "    grid = pv.StructuredGrid(x, y, z)\n",
    "\n",
    "    color_gt = (label_tem[0,0,i].cpu().numpy().T.flatten() ==2).astype(np.float32)\n",
    "    \n",
    "    raw_image = image_tem[0,0,i].cpu().numpy().T.flatten()\n",
    "\n",
    "    color_opacity = np.ones_like(color_gt)*0.8\n",
    "\n",
    "    color_opacity[color_gt == 0] = 0.2\n",
    "\n",
    "\n",
    "    color_gt = raw_image*(1-color_gt) + color_gt\n",
    "\n",
    "\n",
    "    pl.add_mesh(grid, scalars = color_gt, cmap = 'gray_r',\n",
    "                show_scalar_bar = False, opacity = color_opacity, clim=[0,1])\n",
    "    \n",
    "out_ghd_mesh = paraheart.rendering()\n",
    "\n",
    "# trimesh_current_bi = paraheart.rendering_bi_ventricle()\n",
    "# trimesh_current_bi = pv.wrap(trimesh_current_bi)\n",
    "# pl.add_mesh(trimesh_current_bi, color='blue', opacity=0.2)\n",
    "\n",
    "trimesh_gt_lv = trimesh.Trimesh(mesh_gt_lv.verts_packed().detach().cpu().numpy(), mesh_gt_lv.faces_packed().detach().cpu().numpy())\n",
    "pl.add_mesh(trimesh_gt_lv, color='lightgreen', opacity=0.1)\n",
    "\n",
    "trimesh_current_lv = trimesh.Trimesh(out_ghd_mesh.verts_packed().detach().cpu().numpy(), out_ghd_mesh.faces_packed().detach().cpu().numpy())\n",
    "pl.add_mesh(trimesh_current_lv, color='lightblue', opacity=0.8, show_edges=True, show_vertices=False)\n",
    "\n",
    "pl.add_points(sample_lv.detach().cpu().numpy(), color='green', point_size=5)\n",
    "pl.add_points(sample_outoflv.detach().cpu().numpy(), color='red', point_size=2)\n",
    "\n",
    "\n",
    "pl.add_mesh(pv.Box(bounds=[-1, 1, -1, 1, -1, 1]).outline(), color='black')\n",
    "\n",
    "# pl.add_points(lv_cavity_center.cpu().numpy(), color='red', point_size=10)\n",
    "\n",
    "pl.add_axes()\n",
    "pl.show()"
   ]
  },
  {
   "cell_type": "code",
   "execution_count": 9,
   "metadata": {},
   "outputs": [
    {
     "name": "stderr",
     "output_type": "stream",
     "text": [
      "Total Loss 0.1071: 100%|██████████| 2000/2000 [01:52<00:00, 17.71it/s]"
     ]
    },
    {
     "name": "stdout",
     "output_type": "stream",
     "text": [
      "fittings done, the final loss is 0.107143\n"
     ]
    },
    {
     "name": "stderr",
     "output_type": "stream",
     "text": [
      "\n"
     ]
    }
   ],
   "source": [
    "\n",
    "# sample_outoflv = points_outoflv_in_bbox[np.random.choice(points_outoflv_in_bbox.shape[0], sample_num*5, replace=False)]\n",
    "\n",
    "convergence, Loss_dict_list  = paraheart.morphing2lvtarget(points_lv, points_outoflv_in_bbox, \n",
    "                                                           loss_dict = {'Loss_occupancy':1, 'Loss_Laplacian':0.001, 'Loss_thickness': 0.001},\n",
    "                                                            lr_start=1e-3, num_iter=2000, if_reset=True, if_fit_R=False, if_fit_s=True, if_fit_T=True, record_convergence=True)"
   ]
  },
  {
   "cell_type": "code",
   "execution_count": 10,
   "metadata": {},
   "outputs": [
    {
     "name": "stdout",
     "output_type": "stream",
     "text": [
      "Final Dice: 80.40750026702881%\n"
     ]
    }
   ],
   "source": [
    "Dice = 1 - paraheart.dice_evaluation(points_lv, points_outoflv_in_bbox)\n",
    "\n",
    "print('Final Dice: ' + str(Dice*100) + '%')"
   ]
  },
  {
   "cell_type": "code",
   "execution_count": 11,
   "metadata": {},
   "outputs": [
    {
     "data": {
      "application/vnd.jupyter.widget-view+json": {
       "model_id": "b1e97c863638411aba570d67a8167778",
       "version_major": 2,
       "version_minor": 0
      },
      "text/plain": [
       "EmbeddableWidget(value='<iframe srcdoc=\"<!DOCTYPE html>\\n<html>\\n  <head>\\n    <meta http-equiv=&quot;Content-…"
      ]
     },
     "metadata": {},
     "output_type": "display_data"
    }
   ],
   "source": [
    "\n",
    "coordinate_map_np = coordinate_map_tem[0].detach().cpu().numpy()\n",
    "\n",
    "pl = pv.Plotter(notebook=True, shape=(1,3))\n",
    "pl.subplot(0,0)\n",
    "interval = 1\n",
    "if image_tem.shape[-3] > 20:\n",
    "    interval = 5\n",
    "if image_tem.shape[-3] > 256:\n",
    "    interval = 10\n",
    "for i in range(0, image_tem.shape[-3], interval):\n",
    "\n",
    "    x, y, z = coordinate_map_np[i,...,0], coordinate_map_np[i,...,1], coordinate_map_np[i,...,2]\n",
    "\n",
    "    grid = pv.StructuredGrid(x, y, z)\n",
    "\n",
    "    color_gt = (label_tem[0,0,i].cpu().numpy().T.flatten() ==2).astype(np.float32)\n",
    "    \n",
    "    raw_image = image_tem[0,0,i].cpu().numpy().T.flatten()\n",
    "\n",
    "    color_opacity = np.ones_like(color_gt)*0.8\n",
    "\n",
    "    color_opacity[color_gt == 0] = 0.2\n",
    "\n",
    "\n",
    "    color_gt = raw_image*(1-color_gt) + color_gt\n",
    "\n",
    "\n",
    "    pl.add_mesh(grid, scalars = color_gt, cmap = 'gray_r',\n",
    "                show_scalar_bar = False, opacity = color_opacity, clim=[0,1])\n",
    "    \n",
    "out_ghd_mesh = paraheart.rendering()\n",
    "\n",
    "# trimesh_current_bi = paraheart.rendering_bi_ventricle()\n",
    "# trimesh_current_bi = pv.wrap(trimesh_current_bi)\n",
    "# pl.add_mesh(trimesh_current_bi, color='blue', opacity=0.2)\n",
    "\n",
    "# trimesh_gt_lv = trimesh.Trimesh(mesh_gt_lv.verts_packed().detach().cpu().numpy(), mesh_gt_lv.faces_packed().detach().cpu().numpy())\n",
    "# pl.add_mesh(trimesh_gt_lv, color='lightgreen', opacity=0.1)\n",
    "\n",
    "trimesh_current_lv = trimesh.Trimesh(out_ghd_mesh.verts_packed().detach().cpu().numpy(), out_ghd_mesh.faces_packed().detach().cpu().numpy())\n",
    "pl.add_mesh(trimesh_current_lv, color='lightblue', opacity=0.8, show_edges=True, show_vertices=False)\n",
    "\n",
    "pl.add_points(sample_lv.detach().cpu().numpy(), color='green', point_size=5)\n",
    "# pl.add_points(sample_outoflv.detach().cpu().numpy(), color='red', point_size=2)\n",
    "\n",
    "\n",
    "pl.add_mesh(pv.Box(bounds=[-1, 1, -1, 1, -1, 1]).outline(), color='black')\n",
    "\n",
    "# pl.add_points(lv_cavity_center.cpu().numpy(), color='red', point_size=10)\n",
    "pl.add_axes()\n",
    "\n",
    "pl.subplot(0,1)\n",
    "pl.add_mesh(trimesh_current_lv, color='lightblue', opacity=1, show_edges=True, show_vertices=1)\n",
    "\n",
    "pl.add_axes()\n",
    "pl.subplot(0,2)\n",
    "trimesh_gt_lv = trimesh.Trimesh(mesh_gt_lv.verts_packed().detach().cpu().numpy(), mesh_gt_lv.faces_packed().detach().cpu().numpy())\n",
    "pl.add_mesh(trimesh_gt_lv, color='lightcoral', opacity=1, show_edges=True, show_vertices=0)\n",
    "\n",
    "pl.add_axes()\n",
    "pl.show()"
   ]
  },
  {
   "cell_type": "code",
   "execution_count": 10,
   "metadata": {},
   "outputs": [
    {
     "data": {
      "text/plain": [
       "[<matplotlib.lines.Line2D at 0x738903eb2040>]"
      ]
     },
     "execution_count": 10,
     "metadata": {},
     "output_type": "execute_result"
    },
    {
     "data": {
      "image/png": "[encoded data removed]",
      "text/plain": [
       "<Figure size 640x480 with 1 Axes>"
      ]
     },
     "metadata": {},
     "output_type": "display_data"
    }
   ],
   "source": [
    "Loss_occupancy = [loss['Loss_occupancy'] for loss in Loss_dict_list]\n",
    "Loss_occupancy = np.array(Loss_occupancy)\n",
    "plt.plot(Loss_occupancy)"
   ]
  },
  {
   "cell_type": "code",
   "execution_count": null,
   "metadata": {},
   "outputs": [],
   "source": []
  }
 ],
 "metadata": {
  "kernelspec": {
   "display_name": "MedicalImage",
   "language": "python",
   "name": "python3"
  },
  "language_info": {
   "codemirror_mode": {
    "name": "ipython",
    "version": 3
   },
   "file_extension": ".py",
   "mimetype": "text/x-python",
   "name": "python",
   "nbconvert_exporter": "python",
   "pygments_lexer": "ipython3",
   "version": "3.9.18"
  }
 },
 "nbformat": 4,
 "nbformat_minor": 2
}

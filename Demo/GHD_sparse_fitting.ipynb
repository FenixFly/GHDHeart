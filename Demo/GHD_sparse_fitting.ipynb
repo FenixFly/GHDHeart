{
 "cells": [
  {
   "cell_type": "code",
   "execution_count": 38,
   "metadata": {},
   "outputs": [],
   "source": [
    "import os\n",
    "import sys \n",
    "sys.path.append(os.path.join('..'))\n",
    "\n",
    "\n",
    "import numpy as np\n",
    "import torch\n",
    "import torch.nn.functional as F\n",
    "\n",
    "from ops.torch_warping import warp_img_torch_3D\n",
    "from ops.torch_algebra import random_affine_matrix\n",
    "\n",
    "import nibabel as nib\n",
    "\n",
    "from pytorch3d.ops import sample_points_from_meshes, cubify\n",
    "from pytorch3d.transforms import axis_angle_to_matrix, matrix_to_axis_angle\n",
    "\n",
    "import pyvista as pv\n",
    "pv.start_xvfb(wait=0)\n",
    "pv.set_jupyter_backend('html')\n",
    "\n",
    "import trimesh\n",
    "\n",
    "from GHD.GHD_cardiac import GHD_Cardiac\n",
    "from GHD import GHD_config\n",
    "\n",
    "from data.dataset import ACDC_dataset_Simple\n",
    "from torch.utils.data import DataLoader, Dataset\n",
    "\n",
    "from losses import *\n",
    "from ops.mesh_geometry import *\n",
    "\n",
    "import data.data_utils as dut\n",
    "from ops.medical_related import *\n"
   ]
  },
  {
   "cell_type": "code",
   "execution_count": 39,
   "metadata": {},
   "outputs": [],
   "source": [
    "device = torch.device(\"cuda:0\" if torch.cuda.is_available() else \"cpu\")"
   ]
  },
  {
   "cell_type": "code",
   "execution_count": 40,
   "metadata": {},
   "outputs": [],
   "source": [
    "root_path = os.path.dirname(os.path.realpath('../..'))\n",
    "\n",
    "root_path = os.path.join(root_path,'Dataset','ACDC')\n",
    "\n",
    "dataset_path = os.path.join(root_path, 'train')\n",
    "\n",
    "acda_dataset = ACDC_dataset_Simple(dataset_path=root_path, mode=\"train\", process_device=device)\n",
    "\n",
    "# output = acda_dataset[75] # Healthy case\n",
    "\n",
    "# 0- 20 Dilated Cardiomyopathy (DCM)\n",
    "# 21- 40 Hypertrophic Cardiomyopathy (HCM)\n",
    "# 41- 60 Myocardial Infarction (MINF)\n",
    "# 61- 80 Normal (NORM)"
   ]
  },
  {
   "cell_type": "code",
   "execution_count": 41,
   "metadata": {},
   "outputs": [
    {
     "name": "stdout",
     "output_type": "stream",
     "text": [
      "num_basis 36\n",
      "mix_laplacian_tradeoff {'cotlap': 1.0, 'dislap': 0.1, 'stdlap': 0.1}\n"
     ]
    }
   ],
   "source": [
    "base_shape_path = '../canonical_shapes/Standard_LV_4055.obj'\n",
    "bi_ventricle_path = '../canonical_shapes/Standard_BiV.obj'\n",
    "\n",
    "# base_shape_path = 'metadata/Standard_LV.obj'\n",
    "# bi_ventricle_path = 'metadata/Standard_BiV.obj'\n",
    "\n",
    "cfg = GHD_config(base_shape_path=base_shape_path,\n",
    "            num_basis=6**2, mix_laplacian_tradeoff={'cotlap':1.0, 'dislap':0.1, 'stdlap':0.1},\n",
    "            device=device,\n",
    "            if_nomalize=True, if_return_scipy=True, \n",
    "            bi_ventricle_path=bi_ventricle_path)\n",
    "\n",
    "paraheart = GHD_Cardiac(cfg) # \n"
   ]
  },
  {
   "cell_type": "code",
   "execution_count": 58,
   "metadata": {},
   "outputs": [
    {
     "name": "stdout",
     "output_type": "stream",
     "text": [
      "ED\n",
      "['MINF']\n"
     ]
    }
   ],
   "source": [
    "\n",
    "dataloader = DataLoader(acda_dataset, batch_size=1, shuffle=0)\n",
    "\n",
    "target_F = 'ED'\n",
    "# target_F = 'ES'\n",
    "\n",
    "for i, example in enumerate(dataloader):\n",
    "\n",
    "    if i != 52:\n",
    "        continue\n",
    "\n",
    "\n",
    "    image_ed_tem = example['img_ed'].to(device)\n",
    "    image_es_tem = example['img_es'].to(device)\n",
    "    label_ed_tem = example['seg_gt_ed'].to(device)\n",
    "    label_es_tem = example['seg_gt_es'].to(device)\n",
    "\n",
    "    affine_tem = example['affine'].to(device)\n",
    "\n",
    "\n",
    "    print(target_F)\n",
    "\n",
    "    if target_F == 'ED':\n",
    "        image_tem = image_ed_tem\n",
    "        label_tem = label_ed_tem\n",
    "\n",
    "    else:\n",
    "        image_tem = image_es_tem\n",
    "        label_tem = label_es_tem\n",
    "\n",
    "    image_tem = (image_tem - image_tem.min())/(image_tem.max() - image_tem.min())\n",
    "\n",
    "    group = example['group']\n",
    "    print(group)\n",
    "\n",
    "\n",
    "    coordinate_map_tem = dut.get_coord_map_3d_normalized(image_tem.shape[-3:], affine_tem)\n",
    "\n",
    "\n",
    "\n",
    "    Z_rv, Y_rv, X_rv = torch.where(label_tem[0, 0]==acda_dataset.label_value[1])\n",
    "    Z_lv, Y_lv, X_lv = torch.where(label_tem[0, 0]==acda_dataset.label_value[2])\n",
    "    Z_cav, Y_cav, X_cav = torch.where(label_tem[0, 0]==acda_dataset.label_value[3])\n",
    "    Z_bg, Y_bg, X_bg = torch.where(label_tem[0, 0]==acda_dataset.label_value[0])\n",
    "\n",
    "    Pt_rv = coordinate_map_tem[0, Z_rv, Y_rv, X_rv]\n",
    "    Pt_lv = coordinate_map_tem[0, Z_lv, Y_lv, X_lv]\n",
    "    Pt_cav = coordinate_map_tem[0, Z_cav, Y_cav, X_cav]\n",
    "    Pt_bg = coordinate_map_tem[0, Z_bg, Y_bg, X_bg]\n",
    "\n",
    "\n",
    "    geom_dict = get_4chamberview_frame(Pt_cav, Pt_lv, Pt_rv, given_u2d_axis=affine_tem[0, :3, 2])\n",
    "    inital_affine = geom_dict['target_affine']\n",
    "\n",
    "\n",
    "    points_bi = torch.cat([Pt_rv, Pt_lv], dim=0)\n",
    "    points_lv = Pt_lv\n",
    "    points_outoflv = torch.cat([Pt_rv, Pt_cav, Pt_bg], dim=0)\n",
    "    bbox_lv = torch.stack([Pt_lv.min(dim=0)[0]-0.05, Pt_lv.max(dim=0)[0]+0.05], dim=-1)\n",
    "    points_outoflv_in_bbox = points_outoflv[(points_outoflv[:,0]>bbox_lv[0,0]) & (points_outoflv[:,0]<bbox_lv[0,1]) & (points_outoflv[:,1]>bbox_lv[1,0]) & (points_outoflv[:,1]<bbox_lv[1,1]) & (points_outoflv[:,2]>bbox_lv[2,0]) & (points_outoflv[:,2]<bbox_lv[2,1])]\n",
    "\n",
    "    break\n",
    "\n",
    "paraheart.reset_affine_param()\n",
    "paraheart.reset_GHD_param()\n",
    "\n",
    "paraheart.R = matrix_to_axis_angle(inital_affine[...,:3,:3].to(paraheart.device)).view(paraheart.R.shape)\n",
    "paraheart.T = inital_affine[...,:3,3].to(paraheart.device).view(paraheart.T.shape)"
   ]
  },
  {
   "cell_type": "code",
   "execution_count": 59,
   "metadata": {},
   "outputs": [
    {
     "data": {
      "text/plain": [
       "{'rot': array([[ 0.12123755,  0.99233384,  0.02397924],\n",
       "        [ 0.99257122, -0.12094781, -0.01319055],\n",
       "        [-0.01018919,  0.02540029, -0.99962543]]),\n",
       " 'scale': 1.2717972882660336,\n",
       " 't': array([ 0.14342066, -0.0009006 , -0.09679929])}"
      ]
     },
     "execution_count": 59,
     "metadata": {},
     "output_type": "execute_result"
    }
   ],
   "source": [
    "sample_num = 2000\n",
    "\n",
    "sample_lv = points_lv[np.random.choice(points_lv.shape[0], sample_num, replace=False)]\n",
    "sample_outoflv = points_outoflv_in_bbox[np.random.choice(points_outoflv_in_bbox.shape[0], sample_num, replace=False)]\n",
    "# paraheart.global_registration_lv(sample_lv.detach().cpu().numpy())\n",
    "paraheart.global_registration_biv(points_bi.detach().cpu().numpy()[np.random.choice(points_bi.shape[0], \n",
    "                                                                                    sample_num, replace=False)])\n",
    "\n",
    "paraheart.global_registration_lv(sample_lv.detach().cpu().numpy())"
   ]
  },
  {
   "cell_type": "code",
   "execution_count": 60,
   "metadata": {},
   "outputs": [
    {
     "data": {
      "application/vnd.jupyter.widget-view+json": {
       "model_id": "812afd8961c94578a60e4bdfeff43efd",
       "version_major": 2,
       "version_minor": 0
      },
      "text/plain": [
       "EmbeddableWidget(value='<iframe srcdoc=\"<!DOCTYPE html>\\n<html>\\n  <head>\\n    <meta http-equiv=&quot;Content-…"
      ]
     },
     "metadata": {},
     "output_type": "display_data"
    }
   ],
   "source": [
    "out_ghd_mesh = paraheart.rendering()\n",
    "affine_tem_np = paraheart.get_affine_matrix().detach().cpu().numpy()\n",
    "affine_tem_inv = np.linalg.inv(affine_tem_np)\n",
    "\n",
    "coordinate_map_np = coordinate_map_tem[0].detach().cpu().numpy()\n",
    "coordinate_map_np = np.dot(coordinate_map_np, affine_tem_inv[:3,:3].T) + affine_tem_inv[:3,3]\n",
    "\n",
    "pl = pv.Plotter(notebook=True)\n",
    "interval = 1\n",
    "if image_tem.shape[-3] > 20:\n",
    "    interval = 2\n",
    "if image_tem.shape[-3] > 256:\n",
    "    interval = 10\n",
    "for i in range(0, image_tem.shape[-3], interval):\n",
    "\n",
    "    x, y, z = coordinate_map_np[i,...,0], coordinate_map_np[i,...,1], coordinate_map_np[i,...,2]\n",
    "\n",
    "\n",
    "\n",
    "    grid = pv.StructuredGrid(x, y, z)\n",
    "\n",
    "    color_gt = (label_tem[0,0,i].cpu().numpy().T.flatten() ==2).astype(np.float32)\n",
    "    \n",
    "    raw_image = image_tem[0,0,i].cpu().numpy().T.flatten()\n",
    "\n",
    "    color_opacity = np.ones_like(color_gt)*0.8\n",
    "\n",
    "    color_opacity[color_gt == 0] = 0.2\n",
    "\n",
    "\n",
    "    color_gt = raw_image*(1-color_gt) + color_gt\n",
    "\n",
    "\n",
    "    pl.add_mesh(grid, scalars = color_gt, cmap = 'gray_r',\n",
    "                show_scalar_bar = False, opacity = color_opacity, clim=[0,1])\n",
    "    \n",
    "\n",
    "\n",
    "# trimesh_current_bi = paraheart.rendering_bi_ventricle()\n",
    "# trimesh_current_bi = pv.wrap(trimesh_current_bi)\n",
    "# pl.add_mesh(trimesh_current_bi, color='blue', opacity=0.2)\n",
    "\n",
    "# trimesh_gt_lv = trimesh.Trimesh(mesh_gt_lv.verts_packed().detach().cpu().numpy(), mesh_gt_lv.faces_packed().detach().cpu().numpy())\n",
    "# pl.add_mesh(trimesh_gt_lv, color='lightgreen', opacity=0.1)\n",
    "\n",
    "trimesh_current_lv = trimesh.Trimesh(out_ghd_mesh.verts_packed().detach().cpu().numpy(), out_ghd_mesh.faces_packed().detach().cpu().numpy())\n",
    "trimesh_current_lv.apply_transform(affine_tem_inv)\n",
    "pl.add_mesh(trimesh_current_lv, color='lightblue', opacity=0.8, show_edges=True, show_vertices=False)\n",
    "\n",
    "sample_lv_np = sample_lv.detach().cpu().numpy()\n",
    "sample_outoflv_np = sample_outoflv.detach().cpu().numpy()\n",
    "sample_lv_np = np.dot(sample_lv_np, affine_tem_inv[:3,:3].T) + affine_tem_inv[:3,3]\n",
    "sample_outoflv_np = np.dot(sample_outoflv_np, affine_tem_inv[:3,:3].T) + affine_tem_inv[:3,3]\n",
    "pl.add_points(sample_lv_np, color='green', point_size=5)\n",
    "pl.add_points(sample_outoflv_np, color='red', point_size=2)\n",
    "\n",
    "\n",
    "pl.add_mesh(pv.Box(bounds=[-1, 1, -1, 1, -1, 1]).outline(), color='black')\n",
    "\n",
    "# pl.add_points(lv_cavity_center.cpu().numpy(), color='red', point_size=10)\n",
    "\n",
    "# flip the z axis\n",
    "\n",
    "\n",
    "pl.show()"
   ]
  },
  {
   "cell_type": "markdown",
   "metadata": {},
   "source": [
    "### Graph Harmonic Morphing"
   ]
  },
  {
   "cell_type": "code",
   "execution_count": 61,
   "metadata": {},
   "outputs": [
    {
     "name": "stderr",
     "output_type": "stream",
     "text": [
      "Total Loss 0.0551: 100%|██████████| 500/500 [00:37<00:00, 13.50it/s]"
     ]
    },
    {
     "name": "stdout",
     "output_type": "stream",
     "text": [
      "fittings done, the final loss is 0.055081\n"
     ]
    },
    {
     "name": "stderr",
     "output_type": "stream",
     "text": [
      "\n"
     ]
    }
   ],
   "source": [
    "# loss_dict = {'Loss_occupancy':1., 'Loss_Chamfer_P0':0., 'Loss_Chamfer_N1':0., 'Loss_normal_consistency':0.01, 'Loss_Laplacian':0.01, 'Loss_equaledge':0.01, 'Loss_rigid':0.01}\n",
    "\n",
    "\n",
    "loss_dict = {'Loss_occupancy':1., 'Loss_normal_consistency':0.01, 'Loss_Laplacian':0.01, 'Loss_thickness':0.02}\n",
    "\n",
    "\n",
    "current_mesh, loss_dict = paraheart.morphing2lvtarget(points_lv, points_outoflv_in_bbox, target_mesh=None, \n",
    "                                    loss_dict = loss_dict,\n",
    "                                    lr_start=0.5*1e-2, num_iter=500, num_sample=10000, NP_ratio=1,\n",
    "                                    if_reset=True, if_fit_R=True, if_fit_s=True, if_fit_T=True)"
   ]
  },
  {
   "cell_type": "markdown",
   "metadata": {},
   "source": [
    "### Evaluation "
   ]
  },
  {
   "cell_type": "code",
   "execution_count": 62,
   "metadata": {},
   "outputs": [
    {
     "name": "stdout",
     "output_type": "stream",
     "text": [
      "Group: ['MINF']\n",
      "Frame: ED\n",
      "Final Dice: 89.5250%\n"
     ]
    }
   ],
   "source": [
    "print('Group:', group)\n",
    "print('Frame:', target_F)\n",
    "final_dice = 1 - paraheart.dice_evaluation(points_lv, points_outoflv)\n",
    "print('Final Dice: %.4f'%(final_dice*100)+'%')\n"
   ]
  },
  {
   "cell_type": "code",
   "execution_count": 63,
   "metadata": {},
   "outputs": [
    {
     "data": {
      "application/vnd.jupyter.widget-view+json": {
       "model_id": "7ce790a87fe8449f90e8723bd8d2ed02",
       "version_major": 2,
       "version_minor": 0
      },
      "text/plain": [
       "EmbeddableWidget(value='<iframe srcdoc=\"<!DOCTYPE html>\\n<html>\\n  <head>\\n    <meta http-equiv=&quot;Content-…"
      ]
     },
     "metadata": {},
     "output_type": "display_data"
    }
   ],
   "source": [
    "out_ghd_mesh = paraheart.rendering()\n",
    "\n",
    "\n",
    "affine_tem_np = paraheart.get_affine_matrix().detach().cpu().numpy()\n",
    "affine_tem_inv = np.linalg.inv(affine_tem_np)\n",
    "\n",
    "coordinate_map_np = coordinate_map_tem[0].detach().cpu().numpy()\n",
    "coordinate_map_np = np.dot(coordinate_map_np, affine_tem_inv[:3,:3].T) + affine_tem_inv[:3,3]\n",
    "\n",
    "pl = pv.Plotter(notebook=True)\n",
    "\n",
    "interval = 1\n",
    "if image_tem.shape[-3] > 20:\n",
    "    interval = 2\n",
    "if image_tem.shape[-3] > 256:\n",
    "    interval = 10\n",
    "for i in range(0, image_tem.shape[-3], interval):\n",
    "\n",
    "    x, y, z = coordinate_map_np[i,...,0], coordinate_map_np[i,...,1], coordinate_map_np[i,...,2]\n",
    "\n",
    "    grid = pv.StructuredGrid(x, y, z)\n",
    "\n",
    "    color_gt = (label_tem[0,0,i].cpu().numpy().T.flatten() ==2).astype(np.float32)\n",
    "    \n",
    "    raw_image = image_tem[0,0,i].cpu().numpy().T.flatten()\n",
    "\n",
    "    color_opacity = np.ones_like(color_gt)*0.8\n",
    "\n",
    "    color_opacity[color_gt == 0] = 0.2\n",
    "\n",
    "\n",
    "    color_gt = raw_image*(1-color_gt) + color_gt\n",
    "\n",
    "\n",
    "    pl.add_mesh(grid, scalars = color_gt, cmap = 'gray_r',\n",
    "                show_scalar_bar = False, opacity = color_opacity, clim=[0,1])\n",
    "    \n",
    "\n",
    "points_lv_np = points_lv.detach().cpu().numpy()\n",
    "points_lv_np = np.dot(points_lv_np, affine_tem_inv[:3,:3].T) + affine_tem_inv[:3,3]\n",
    "pl.add_points(points_lv_np, color='lightgreen', point_size=5, opacity=0.6, render_points_as_spheres=True)\n",
    "\n",
    "points_rv_np = Pt_rv.detach().cpu().numpy()\n",
    "points_rv_np = np.dot(points_rv_np, affine_tem_inv[:3,:3].T) + affine_tem_inv[:3,3]\n",
    "pl.add_points(points_rv_np, color='blue', point_size=3, opacity=0.2, render_points_as_spheres=True)\n",
    "\n",
    "\n",
    "trimesh_current_lv = trimesh.Trimesh(vertices=out_ghd_mesh.verts_packed().detach().cpu().numpy(), faces=out_ghd_mesh.faces_packed().detach().cpu().numpy())\n",
    "# current_trimesh.export('current_mesh_ghd.obj')\n",
    "trimesh_current_lv.apply_transform(affine_tem_inv)\n",
    "\n",
    "pl.add_mesh(trimesh_current_lv, color='lightpink', \n",
    "            opacity=0.9, lighting=True, show_edges=True)\n",
    "\n",
    "# trimeshtarget = trimesh.Trimesh(vertices=meshtarget.verts_packed().detach().cpu().numpy(), faces=meshtarget.faces_packed().detach().cpu().numpy())\n",
    "\n",
    "# pl.add_mesh(pv.wrap(trimeshtarget), color='lightgreen', opacity=0.5)\n",
    "\n",
    "pl.show()"
   ]
  },
  {
   "cell_type": "code",
   "execution_count": 64,
   "metadata": {},
   "outputs": [
    {
     "data": {
      "application/vnd.jupyter.widget-view+json": {
       "model_id": "a866955cad854395a67fb2f17369783e",
       "version_major": 2,
       "version_minor": 0
      },
      "text/plain": [
       "EmbeddableWidget(value='<iframe srcdoc=\"<!DOCTYPE html>\\n<html>\\n  <head>\\n    <meta http-equiv=&quot;Content-…"
      ]
     },
     "metadata": {},
     "output_type": "display_data"
    }
   ],
   "source": [
    "pl = pv.Plotter(notebook=True)\n",
    "pl.add_mesh(trimesh_current_lv, color='white', opacity=0.2, lighting=True, show_edges=True)\n",
    "# pl.add_mesh(pv.Box(bounds=[-0.4, 0.4, -0.4, 0.4, -0.4, 0.4]).outline(), color='white', line_width=0.1, opacity=1)\n",
    "pl.camera.azimuth = 0\n",
    "pl.camera.elevation = -10\n",
    "pl.show(screenshot='output/'+str(group[0])+'_'+target_F+'.png')"
   ]
  },
  {
   "cell_type": "code",
   "execution_count": null,
   "metadata": {},
   "outputs": [],
   "source": []
  },
  {
   "cell_type": "code",
   "execution_count": null,
   "metadata": {},
   "outputs": [
    {
     "name": "stdout",
     "output_type": "stream",
     "text": [
      "Thickness: tensor(2.0331, device='cuda:0', grad_fn=<MulBackward0>)\n"
     ]
    }
   ],
   "source": [
    "from ops.mesh_geometry import MeshThickness\n",
    "thicknesser = MeshThickness()\n",
    "thickness,_,indx,sign = thicknesser.forward(current_mesh)\n"
   ]
  },
  {
   "cell_type": "code",
   "execution_count": 51,
   "metadata": {},
   "outputs": [
    {
     "data": {
      "application/vnd.jupyter.widget-view+json": {
       "model_id": "ee0216f8426d4e59bab0e35a88954c30",
       "version_major": 2,
       "version_minor": 0
      },
      "text/plain": [
       "EmbeddableWidget(value='<iframe srcdoc=\"<!DOCTYPE html>\\n<html>\\n  <head>\\n    <meta http-equiv=&quot;Content-…"
      ]
     },
     "metadata": {},
     "output_type": "display_data"
    }
   ],
   "source": [
    "current_mesh = paraheart.rendering()\n",
    "\n",
    "\n",
    "pl = pv.Plotter(notebook=True)\n",
    "\n",
    "current_trimesh = trimesh.Trimesh(vertices=current_mesh.verts_packed().detach().cpu().numpy(), faces=current_mesh.faces_packed().detach().cpu().numpy())\n",
    "scalars = (thickness*100).detach().cpu().numpy()\n",
    "current_trimesh.apply_transform(affine_tem_inv)\n",
    "pl.add_mesh(current_trimesh, scalars=scalars, cmap='viridis', show_scalar_bar=True, lighting=True, clim=[-20, 20])\n",
    "pl.add_axes()\n",
    "pl.show()\n",
    "\n"
   ]
  },
  {
   "cell_type": "code",
   "execution_count": 25,
   "metadata": {},
   "outputs": [
    {
     "name": "stdout",
     "output_type": "stream",
     "text": [
      "0.13018786907196045\n"
     ]
    }
   ],
   "source": [
    "# differentiable volume \n",
    "\n",
    "current_normals = current_mesh.faces_normals_packed()\n",
    "current_area = current_mesh.faces_areas_packed()\n",
    "current_bary = current_mesh.verts_packed()[current_mesh.faces_packed()].mean(dim=1)\n",
    "\n",
    "volume = ((current_bary*current_normals).sum(dim=-1)*current_area).sum()/3\n",
    "\n",
    "print(volume.item())\n",
    "\n"
   ]
  },
  {
   "cell_type": "code",
   "execution_count": 26,
   "metadata": {},
   "outputs": [
    {
     "name": "stdout",
     "output_type": "stream",
     "text": [
      "62.914 ml\n"
     ]
    }
   ],
   "source": [
    "## trimesh volume\n",
    "\n",
    "current_trimesh = trimesh.Trimesh(vertices=current_mesh.verts_packed().detach().cpu().numpy(), faces=current_mesh.faces_packed().detach().cpu().numpy())\n",
    "\n",
    "current_trimesh.volume\n",
    "\n",
    "# endo volume \n",
    "\n",
    "endo_volume = current_trimesh.convex_hull.volume - current_trimesh.volume\n",
    "\n",
    "print('%.3f'%(endo_volume*(100**3)/1000),'ml')"
   ]
  },
  {
   "cell_type": "code",
   "execution_count": 16,
   "metadata": {},
   "outputs": [
    {
     "data": {
      "text/plain": [
       "0.044275176432237995"
      ]
     },
     "execution_count": 16,
     "metadata": {},
     "output_type": "execute_result"
    }
   ],
   "source": [
    "current_trimesh.convex_hull.volume - current_trimesh.volume"
   ]
  },
  {
   "cell_type": "code",
   "execution_count": 27,
   "metadata": {},
   "outputs": [
    {
     "data": {
      "text/plain": [
       "0.5986066007821921"
      ]
     },
     "execution_count": 27,
     "metadata": {},
     "output_type": "execute_result"
    }
   ],
   "source": [
    "(156.739\n",
    " - 62.914)/156.739\n",
    "\n",
    "\n"
   ]
  },
  {
   "cell_type": "code",
   "execution_count": null,
   "metadata": {},
   "outputs": [],
   "source": []
  }
 ],
 "metadata": {
  "kernelspec": {
   "display_name": "MedicalImage",
   "language": "python",
   "name": "python3"
  },
  "language_info": {
   "codemirror_mode": {
    "name": "ipython",
    "version": 3
   },
   "file_extension": ".py",
   "mimetype": "text/x-python",
   "name": "python",
   "nbconvert_exporter": "python",
   "pygments_lexer": "ipython3",
   "version": "3.9.18"
  }
 },
 "nbformat": 4,
 "nbformat_minor": 2
}

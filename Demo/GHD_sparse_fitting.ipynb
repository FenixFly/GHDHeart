{
 "cells": [
  {
   "cell_type": "code",
   "execution_count": 21,
   "metadata": {},
   "outputs": [],
   "source": [
    "import os\n",
    "import sys \n",
    "sys.path.append(os.path.join('..'))\n",
    "\n",
    "\n",
    "import numpy as np\n",
    "import torch\n",
    "import torch.nn.functional as F\n",
    "\n",
    "from ops.torch_warping import warp_img_torch_3D\n",
    "from ops.torch_algebra import random_affine_matrix\n",
    "\n",
    "import nibabel as nib\n",
    "\n",
    "from pytorch3d.ops import sample_points_from_meshes, cubify\n",
    "from pytorch3d.transforms import axis_angle_to_matrix, matrix_to_axis_angle\n",
    "\n",
    "import pyvista as pv\n",
    "pv.start_xvfb(wait=0)\n",
    "pv.set_jupyter_backend('html')\n",
    "\n",
    "import trimesh\n",
    "\n",
    "import pickle\n",
    "\n",
    "from GHD.GHD_cardiac import GHD_Cardiac\n",
    "from GHD import GHD_config\n",
    "\n",
    "from data_process.dataset_real_scaling import *\n"
   ]
  },
  {
   "cell_type": "code",
   "execution_count": 22,
   "metadata": {},
   "outputs": [],
   "source": [
    "device = torch.device(\"cuda:0\" if torch.cuda.is_available() else \"cpu\")"
   ]
  },
  {
   "cell_type": "code",
   "execution_count": 31,
   "metadata": {},
   "outputs": [],
   "source": [
    "root_path = os.path.dirname(os.path.realpath('..'))\n",
    "\n",
    "root_path = os.path.join(root_path,'Dataset','ACDC')\n",
    "\n",
    "dataset_path = os.path.join(root_path, 'train')\n",
    "\n",
    "acda_dataset = ACDC_dataset_Simple(dataset_path=root_path, mode=\"train\", process_device=device)\n",
    "\n",
    "\n",
    "mesh_acdc = ACDC_dataset(dataset_path=root_path, mode=\"train\", process_device=device, label_value_list=[[2]])\n",
    "\n",
    "output = acda_dataset[75] # Healthy case"
   ]
  },
  {
   "cell_type": "code",
   "execution_count": 32,
   "metadata": {},
   "outputs": [
    {
     "data": {
      "application/vnd.jupyter.widget-view+json": {
       "model_id": "78b9c9270393486cb4220e89a47d0fcf",
       "version_major": 2,
       "version_minor": 0
      },
      "text/plain": [
       "EmbeddableWidget(value='<iframe srcdoc=\"<!DOCTYPE html>\\n<html>\\n  <head>\\n    <meta http-equiv=&quot;Content-…"
      ]
     },
     "metadata": {},
     "output_type": "display_data"
    }
   ],
   "source": [
    "point_list = point_cloud_extractor(output['seg_gt_ed'],  [0,1,2,3], output['window'], spacing=200, coordinate_order = 'zyx')\n",
    "\n",
    "\n",
    "pl = pv.Plotter(notebook=True)\n",
    "color_list = ['lightblue', 'lightsalmon', 'lightgreen']\n",
    "for point, color in zip(point_list[1:], color_list):\n",
    "    pl.add_points(point.cpu().numpy(), color=color, point_size=10, opacity=0.2)\n",
    "\n",
    "img = output['img_ed']\n",
    "window = output['window']\n",
    "\n",
    "for i in range(img.shape[-1]):\n",
    "    if i%2 == 0:\n",
    "        continue\n",
    "    meshgrid_x, meshgrid_y, meshgrid_z = meshgrid_from_slices(img, i, window, rescalar = 200.0)\n",
    "    grid = pv.StructuredGrid(meshgrid_z.cpu().numpy(), meshgrid_y.cpu().numpy(), meshgrid_x.cpu().numpy())\n",
    "    scalars = img[0,0,:,:,i].cpu().numpy().T # Becareful about the transpose here, the original image is in zyx, but the meshgrid is in xyz\n",
    "    # grey to rgb\n",
    "\n",
    "    pl.add_mesh(grid, scalars=scalars.reshape(-1), cmap = 'gray',opacity=0.1, show_scalar_bar=False)\n",
    "\n",
    "\n",
    "# trimeshtarget = trimesh.Trimesh(vertices=meshtarget.verts_packed().detach().cpu().numpy(), faces=meshtarget.faces_packed().detach().cpu().numpy())\n",
    "\n",
    "# pl.add_mesh(trimeshtarget, color='lightgreen', opacity=0.5)\n",
    "\n",
    "pl.show()\n"
   ]
  },
  {
   "cell_type": "code",
   "execution_count": 33,
   "metadata": {},
   "outputs": [
    {
     "name": "stdout",
     "output_type": "stream",
     "text": [
      "GHD config:\n",
      "base_shape_path /home/yihao/Document/GHDHeart/canonical_shapes/Standard_LV_2000.obj\n",
      "num_basis 36\n",
      "device cuda:0\n",
      "mix_laplacian_tradeoff {'cotlap': 1.0, 'dislap': 0.1, 'stdlap': 0.1}\n",
      "if_lap_nomalize True\n",
      "eign_path None\n",
      "if_nomalize True\n",
      "if_return_scipy True\n",
      "bi_ventricle_path /home/yihao/Document/GHDHeart/canonical_shapes/Standard_BiV.obj\n"
     ]
    }
   ],
   "source": [
    "root_path = os.path.dirname(os.path.realpath('.'))\n",
    "\n",
    "base_shape_path = 'canonical_shapes/Standard_LV_2000.obj'\n",
    "base_shape_path = os.path.join(root_path, base_shape_path)\n",
    "bi_ventricle_path = 'canonical_shapes/Standard_BiV.obj'\n",
    "bi_ventricle_path = os.path.join(root_path, bi_ventricle_path)\n",
    "\n",
    "# base_shape_path = 'metadata/Standard_LV.obj'\n",
    "# bi_ventricle_path = 'metadata/Standard_BiV.obj'\n",
    "\n",
    "cfg = GHD_config(base_shape_path=base_shape_path,\n",
    "            num_basis=6**2, mix_laplacian_tradeoff={'cotlap':1.0, 'dislap':0.1, 'stdlap':0.1},\n",
    "            device='cuda:0',\n",
    "            if_nomalize=True, if_return_scipy=True, \n",
    "            bi_ventricle_path=bi_ventricle_path)\n",
    "\n",
    "paraheart = GHD_Cardiac(cfg) # "
   ]
  },
  {
   "cell_type": "markdown",
   "metadata": {},
   "source": [
    "BiVentricle Global Registration "
   ]
  },
  {
   "cell_type": "code",
   "execution_count": 34,
   "metadata": {},
   "outputs": [],
   "source": [
    "# load initial orientation according to dataset\n",
    "\n",
    "init_affine_path = os.path.join(root_path, 'canonical_shapes/acdc_init_affine.pkl')\n",
    "\n",
    "with open(init_affine_path, 'rb') as f:\n",
    "    initial_orientation = pickle.load(f)\n",
    "\n",
    "R = initial_orientation[:3,:3]\n",
    "T = initial_orientation[:3,3]\n",
    "\n",
    "paraheart.R = matrix_to_axis_angle(torch.from_numpy(R).to(paraheart.device)).view(paraheart.R.shape)\n",
    "paraheart.T = torch.from_numpy(T).to(paraheart.device).view(paraheart.T.shape)\n",
    "\n",
    "\n"
   ]
  },
  {
   "cell_type": "code",
   "execution_count": 35,
   "metadata": {},
   "outputs": [
    {
     "data": {
      "text/plain": [
       "{'rot': array([[-0.19994186,  0.16802241, -0.96529359],\n",
       "        [ 0.92057801, -0.30512614, -0.24379122],\n",
       "        [-0.3354987 , -0.93737213, -0.09367025]]),\n",
       " 'scale': 1.2713718228778272,\n",
       " 't': array([-0.15720864, -0.12574415,  0.02975088])}"
      ]
     },
     "execution_count": 35,
     "metadata": {},
     "output_type": "execute_result"
    }
   ],
   "source": [
    "points_bi = torch.cat(point_list[1:3], dim=0)\n",
    "\n",
    "mesh_gt_bi_sample = points_bi.detach().cpu().numpy()[np.random.choice(points_bi.shape[0], 500, replace=False)]\n",
    "\n",
    "paraheart.global_registration_biv(mesh_gt_bi_sample)\n",
    "\n",
    "\n",
    "\n",
    "points_lv = point_list[2]\n",
    "\n",
    "mesh_gt_lv_sample = points_lv.detach().cpu().numpy()[np.random.choice(points_lv.shape[0], 2000, replace=False)]\n",
    "\n",
    "paraheart.global_registration_lv(mesh_gt_lv_sample)\n"
   ]
  },
  {
   "cell_type": "code",
   "execution_count": 36,
   "metadata": {},
   "outputs": [
    {
     "data": {
      "application/vnd.jupyter.widget-view+json": {
       "model_id": "f956e46019ea488fac7951518ff0afea",
       "version_major": 2,
       "version_minor": 0
      },
      "text/plain": [
       "EmbeddableWidget(value='<iframe srcdoc=\"<!DOCTYPE html>\\n<html>\\n  <head>\\n    <meta http-equiv=&quot;Content-…"
      ]
     },
     "metadata": {},
     "output_type": "display_data"
    }
   ],
   "source": [
    "current_mesh = paraheart.rendering()\n",
    "\n",
    "pl = pv.Plotter(notebook=True)\n",
    "\n",
    "color_list = ['lightblue', 'lightsalmon', 'lightgreen']\n",
    "for point, color in zip(point_list[1:], color_list):\n",
    "    pl.add_points(point.cpu().numpy(), color=color, point_size=10, opacity=0.2)\n",
    "\n",
    "img = output['img_ed']\n",
    "window = output['window']\n",
    "\n",
    "for i in range(img.shape[-1]):\n",
    "    if i%4 > 0:\n",
    "        continue\n",
    "    meshgrid_x, meshgrid_y, meshgrid_z = meshgrid_from_slices(img, i, window, rescalar = 200.0)\n",
    "    grid = pv.StructuredGrid(meshgrid_z.cpu().numpy(), meshgrid_y.cpu().numpy(), meshgrid_x.cpu().numpy())\n",
    "    scalars = img[0,0,:,:,i].cpu().numpy().T # Becareful about the transpose here, the original image is in zyx, but the meshgrid is in xyz\n",
    "    # grey to rgb\n",
    "\n",
    "    pl.add_mesh(grid, scalars=scalars.reshape(-1), cmap = 'gray',opacity=0.1, show_scalar_bar=False)\n",
    "\n",
    "current_trimesh = trimesh.Trimesh(vertices=current_mesh.verts_packed().detach().cpu().numpy(), faces=current_mesh.faces_packed().detach().cpu().numpy())\n",
    "current_trimesh = pv.wrap(current_trimesh)\n",
    "\n",
    "current_trimesh_bi = paraheart.rendering_bi_ventricle()\n",
    "current_trimesh_bi = pv.wrap(current_trimesh_bi)\n",
    "\n",
    "pl.add_mesh(current_trimesh, color='lightblue')\n",
    "pl.add_mesh(current_trimesh_bi, color='lightgreen')\n",
    "pl.add_axes()\n",
    "pl.show()"
   ]
  },
  {
   "cell_type": "markdown",
   "metadata": {},
   "source": [
    "Graph Harmonic Morphing"
   ]
  },
  {
   "cell_type": "code",
   "execution_count": 37,
   "metadata": {},
   "outputs": [],
   "source": [
    "points_lv = point_list[2]\n",
    "bbox_lv = torch.stack([points_lv.min(dim=0)[0], points_lv.max(dim=0)[0]], dim=0).T\n",
    "rescale = 1.1\n",
    "bbox_lv_center =  bbox_lv.mean(-1)\n",
    "bbox_lv = torch.stack([bbox_lv_center-rescale*(bbox_lv_center-bbox_lv[:,0]), bbox_lv_center+rescale*(bbox_lv[:,1]-bbox_lv_center)], dim=-1)"
   ]
  },
  {
   "cell_type": "code",
   "execution_count": 38,
   "metadata": {},
   "outputs": [],
   "source": [
    "points_outoflv = torch.cat([point_list[0], point_list[1]], dim=0)\n",
    "points_outoflv_in_bbox = points_outoflv[(points_outoflv[:,0]>bbox_lv[0,0]) & (points_outoflv[:,0]<bbox_lv[0,1]) & (points_outoflv[:,1]>bbox_lv[1,0]) & (points_outoflv[:,1]<bbox_lv[1,1]) & (points_outoflv[:,2]>bbox_lv[2,0]) & (points_outoflv[:,2]<bbox_lv[2,1])]\n",
    "points_outoflv_in_bbox = torch.cat([points_outoflv_in_bbox, point_list[-1]], dim=0)"
   ]
  },
  {
   "cell_type": "code",
   "execution_count": 39,
   "metadata": {},
   "outputs": [],
   "source": [
    "mesh_after_globalreg = paraheart.rendering()"
   ]
  },
  {
   "cell_type": "code",
   "execution_count": 40,
   "metadata": {},
   "outputs": [
    {
     "name": "stderr",
     "output_type": "stream",
     "text": [
      "Total Loss: 0.0000:   0%|          | 0/1000 [00:00<?, ?it/s]"
     ]
    },
    {
     "name": "stderr",
     "output_type": "stream",
     "text": [
      "Total Loss: 0.0000: 100%|██████████| 1000/1000 [00:16<00:00, 61.80it/s]"
     ]
    },
    {
     "name": "stdout",
     "output_type": "stream",
     "text": [
      "fittings done, the final loss is 0.046567\n"
     ]
    },
    {
     "name": "stderr",
     "output_type": "stream",
     "text": [
      "\n"
     ]
    }
   ],
   "source": [
    "# loss_dict = {'Loss_occupancy':1., 'Loss_Chamfer_P0':0., 'Loss_Chamfer_N1':0., 'Loss_normal_consistency':0.01, 'Loss_Laplacian':0.01, 'Loss_equaledge':0.01, 'Loss_rigid':0.01}\n",
    "\n",
    "\n",
    "loss_dict = {'Loss_occupancy':1., 'Loss_normal_consistency':0.01, 'Loss_Laplacian':0.1, 'Loss_thickness':0.02}\n",
    "\n",
    "\n",
    "current_mesh, loss_dict = paraheart.morphing2lvtarget(points_lv, points_outoflv_in_bbox, target_mesh=None, \n",
    "                                    loss_dict = loss_dict,\n",
    "                                    lr_start=1e-4, num_iter=1000, num_sample=10000, NP_ratio=1,\n",
    "                                    if_reset=True, if_fit_R=False, if_fit_s=True, if_fit_T=True)"
   ]
  },
  {
   "cell_type": "code",
   "execution_count": 41,
   "metadata": {},
   "outputs": [
    {
     "name": "stdout",
     "output_type": "stream",
     "text": [
      "Final Dice: 95.4160%\n"
     ]
    }
   ],
   "source": [
    "final_dice = 1 - paraheart.dice_evaluation(points_lv, torch.cat([point_list[0], point_list[1]], dim=0))\n",
    "print('Final Dice: %.4f'%(final_dice*100)+'%')\n"
   ]
  },
  {
   "cell_type": "code",
   "execution_count": 42,
   "metadata": {},
   "outputs": [
    {
     "data": {
      "application/vnd.jupyter.widget-view+json": {
       "model_id": "b1c6b776bc5e4e6ea357255c517ccff8",
       "version_major": 2,
       "version_minor": 0
      },
      "text/plain": [
       "EmbeddableWidget(value='<iframe srcdoc=\"<!DOCTYPE html>\\n<html>\\n  <head>\\n    <meta http-equiv=&quot;Content-…"
      ]
     },
     "metadata": {},
     "output_type": "display_data"
    }
   ],
   "source": [
    "current_mesh = paraheart.rendering()\n",
    "\n",
    "pl = pv.Plotter(notebook=True)\n",
    "\n",
    "color_list = ['lightgreen']\n",
    "for point, color in zip(point_list[2:3], color_list):\n",
    "    pl.add_points(point.cpu().numpy(), color=color, point_size=5, opacity=0.6, render_points_as_spheres=True)\n",
    "\n",
    "img = output['img_ed']\n",
    "window = output['window']\n",
    "\n",
    "for i in range(img.shape[-1]):\n",
    "    if i%2 > 0:\n",
    "        continue\n",
    "    meshgrid_x, meshgrid_y, meshgrid_z = meshgrid_from_slices(img, i, window, rescalar = 200.0)\n",
    "    grid = pv.StructuredGrid(meshgrid_z.cpu().numpy(), meshgrid_y.cpu().numpy(), meshgrid_x.cpu().numpy())\n",
    "    scalars = img[0,0,:,:,i].cpu().numpy().T # Becareful about the transpose here, the original image is in zyx, but the meshgrid is in xyz\n",
    "    # grey to rgb\n",
    "\n",
    "    pl.add_mesh(grid, scalars=scalars.reshape(-1), cmap = 'gray',opacity=0.4, show_scalar_bar=False)\n",
    "\n",
    "current_trimesh = trimesh.Trimesh(vertices=current_mesh.verts_packed().detach().cpu().numpy(), faces=current_mesh.faces_packed().detach().cpu().numpy())\n",
    "current_trimesh.export('current_mesh_ghd.obj')\n",
    "current_trimesh = pv.wrap(current_trimesh)\n",
    "\n",
    "pl.add_mesh(current_trimesh, color='lightpink', opacity=0.9, lighting=True, show_edges=True)\n",
    "\n",
    "# trimeshtarget = trimesh.Trimesh(vertices=meshtarget.verts_packed().detach().cpu().numpy(), faces=meshtarget.faces_packed().detach().cpu().numpy())\n",
    "\n",
    "# pl.add_mesh(pv.wrap(trimeshtarget), color='lightgreen', opacity=0.5)\n",
    "\n",
    "pl.show()"
   ]
  },
  {
   "cell_type": "code",
   "execution_count": 43,
   "metadata": {},
   "outputs": [],
   "source": [
    "from ops.mesh_geometry import MeshThickness\n",
    "thicknesser = MeshThickness()\n",
    "thickness,_,indx,sign = thicknesser.forward(current_mesh)"
   ]
  },
  {
   "cell_type": "code",
   "execution_count": 44,
   "metadata": {},
   "outputs": [
    {
     "data": {
      "application/vnd.jupyter.widget-view+json": {
       "model_id": "2501efa64e16423bb685fd7123189408",
       "version_major": 2,
       "version_minor": 0
      },
      "text/plain": [
       "EmbeddableWidget(value='<iframe srcdoc=\"<!DOCTYPE html>\\n<html>\\n  <head>\\n    <meta http-equiv=&quot;Content-…"
      ]
     },
     "metadata": {},
     "output_type": "display_data"
    }
   ],
   "source": [
    "current_mesh = paraheart.rendering()\n",
    "\n",
    "pl = pv.Plotter(notebook=True)\n",
    "\n",
    "current_trimesh = trimesh.Trimesh(vertices=current_mesh.verts_packed().detach().cpu().numpy(), faces=current_mesh.faces_packed().detach().cpu().numpy())\n",
    "scalars = (sign).detach().cpu().numpy()\n",
    "pl.add_mesh(current_trimesh, scalars=scalars, cmap='viridis', show_scalar_bar=True, lighting=True, clim=[-0.2, 0.2])\n",
    "pl.add_axes()\n",
    "pl.show()\n",
    "\n"
   ]
  },
  {
   "cell_type": "code",
   "execution_count": 45,
   "metadata": {},
   "outputs": [
    {
     "name": "stdout",
     "output_type": "stream",
     "text": [
      "0.12181388586759567\n"
     ]
    }
   ],
   "source": [
    "# differentiable volume \n",
    "\n",
    "current_normals = current_mesh.faces_normals_packed()\n",
    "current_area = current_mesh.faces_areas_packed()\n",
    "current_bary = current_mesh.verts_packed()[current_mesh.faces_packed()].mean(dim=1)\n",
    "\n",
    "volume = ((current_bary*current_normals).sum(dim=-1)*current_area).sum()/3\n",
    "\n",
    "print(volume.item())\n",
    "\n"
   ]
  },
  {
   "cell_type": "code",
   "execution_count": 46,
   "metadata": {},
   "outputs": [
    {
     "name": "stdout",
     "output_type": "stream",
     "text": [
      "163.991 ml\n"
     ]
    }
   ],
   "source": [
    "## trimesh volume\n",
    "\n",
    "current_trimesh = trimesh.Trimesh(vertices=current_mesh.verts_packed().detach().cpu().numpy(), faces=current_mesh.faces_packed().detach().cpu().numpy())\n",
    "\n",
    "current_trimesh.volume\n",
    "\n",
    "# endo volume \n",
    "\n",
    "endo_volume = current_trimesh.convex_hull.volume - current_trimesh.volume\n",
    "\n",
    "print('%.3f'%(endo_volume*(100**3)/1000),'ml')"
   ]
  },
  {
   "cell_type": "code",
   "execution_count": 47,
   "metadata": {},
   "outputs": [
    {
     "name": "stdout",
     "output_type": "stream",
     "text": [
      "163.991 ml\n"
     ]
    }
   ],
   "source": [
    "# endo volume \n",
    "\n",
    "endo_volume = current_trimesh.convex_hull.volume - current_trimesh.volume\n",
    "\n",
    "print('%.3f'%(endo_volume*(100**3)/1000),'ml')"
   ]
  }
 ],
 "metadata": {
  "kernelspec": {
   "display_name": "MedicalImage",
   "language": "python",
   "name": "python3"
  },
  "language_info": {
   "codemirror_mode": {
    "name": "ipython",
    "version": 3
   },
   "file_extension": ".py",
   "mimetype": "text/x-python",
   "name": "python",
   "nbconvert_exporter": "python",
   "pygments_lexer": "ipython3",
   "version": "3.9.18"
  }
 },
 "nbformat": 4,
 "nbformat_minor": 2
}
